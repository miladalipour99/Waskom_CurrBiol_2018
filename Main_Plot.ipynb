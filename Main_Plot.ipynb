{
  "cells": [
    {
      "cell_type": "markdown",
      "metadata": {
        "id": "view-in-github",
        "colab_type": "text"
      },
      "source": [
        "<a href=\"https://colab.research.google.com/github/miladalipour99/Waskom_CurrBiol_2018/blob/master/Main_Plot.ipynb\" target=\"_parent\"><img src=\"https://colab.research.google.com/assets/colab-badge.svg\" alt=\"Open In Colab\"/></a>"
      ]
    },
    {
      "cell_type": "markdown",
      "metadata": {
        "id": "TzyWmWSIsur2"
      },
      "source": [
        "# Demonstration of behavioral analysis and modeling\n",
        "\n",
        "This notebook demonstrates behavioral analysis and modeling from the following paper:\n",
        "\n",
        "> Waskom ML, Kiani R (2018). [Decision making through integration of sensory evidence at prolonged timescales](https://www.cell.com/current-biology/fulltext/S0960-9822(18)31350-2). *Current Biology 28*(23): 2350–3856.\n",
        "\n",
        "The models themselves are defined in a separate library that is packaged in this repository. The notebook illustrates how those models can be compared to actual behavioral data using a series of visualizations similar to those shown in the paper."
      ]
    },
    {
      "cell_type": "code",
      "source": [
        "!git clone https://github.com/kianilab/Waskom_CurrBiol_2018"
      ],
      "metadata": {
        "colab": {
          "base_uri": "https://localhost:8080/"
        },
        "id": "z-eet25ms0qq",
        "outputId": "e5084f72-68f2-44b1-9884-ae31859dfe1f"
      },
      "execution_count": 1,
      "outputs": [
        {
          "output_type": "stream",
          "name": "stdout",
          "text": [
            "Cloning into 'Waskom_CurrBiol_2018'...\n",
            "remote: Enumerating objects: 55, done.\u001b[K\n",
            "remote: Counting objects: 100% (3/3), done.\u001b[K\n",
            "remote: Compressing objects: 100% (3/3), done.\u001b[K\n",
            "remote: Total 55 (delta 0), reused 0 (delta 0), pack-reused 52\u001b[K\n",
            "Unpacking objects: 100% (55/55), done.\n"
          ]
        }
      ]
    },
    {
      "cell_type": "code",
      "execution_count": 3,
      "metadata": {
        "id": "dpFudP5isur7"
      },
      "outputs": [],
      "source": [
        "# PyData analysis libraries\n",
        "import numpy as np\n",
        "import pandas as pd\n",
        "import seaborn as sns\n",
        "import matplotlib.pyplot as plt\n"
      ]
    },
    {
      "cell_type": "code",
      "source": [
        "cd Waskom_CurrBiol_2018/"
      ],
      "metadata": {
        "colab": {
          "base_uri": "https://localhost:8080/"
        },
        "id": "hMWDOrvatCNI",
        "outputId": "f91da171-c542-4139-f0e2-ba456ac8b151"
      },
      "execution_count": 4,
      "outputs": [
        {
          "output_type": "stream",
          "name": "stdout",
          "text": [
            "/content/Waskom_CurrBiol_2018\n"
          ]
        }
      ]
    },
    {
      "cell_type": "code",
      "source": [
        "# Our local library of computational models\n",
        "from models import LinearIntegration, ExtremaDetection, Counting, LeakyIntegration"
      ],
      "metadata": {
        "id": "dNT0YknRs8si"
      },
      "execution_count": 5,
      "outputs": []
    },
    {
      "cell_type": "code",
      "source": [
        "cd .."
      ],
      "metadata": {
        "colab": {
          "base_uri": "https://localhost:8080/"
        },
        "id": "6qFZdLsbtH4p",
        "outputId": "05e2ace8-1120-41f1-d67c-49414943d19c"
      },
      "execution_count": 6,
      "outputs": [
        {
          "output_type": "stream",
          "name": "stdout",
          "text": [
            "/content\n"
          ]
        }
      ]
    },
    {
      "cell_type": "markdown",
      "metadata": {
        "id": "3n9xOopgsur-"
      },
      "source": [
        "## Define functions for analysis/plotting"
      ]
    },
    {
      "cell_type": "markdown",
      "metadata": {
        "id": "EMJpgh0vsur_"
      },
      "source": [
        "To make things simple, we will draw a figure with the three main behavioral assays defined in the paper:\n",
        "\n",
        "- mean psychometric function (mPMF), relating choice to the average strength of evidence\n",
        "- count psychometric function (cPMF), relating accuracy to the quantity of samples\n",
        "- reverse correlation function (RCF), estimating the temporal weighitng of the evidence\n",
        "\n",
        "We'll define a function that can take in the pulse-wise behavioral data and a model object (previously fitted to the data) and then build up the plot with specialized functions."
      ]
    },
    {
      "cell_type": "code",
      "execution_count": 7,
      "metadata": {
        "id": "mRToIyoLsusA"
      },
      "outputs": [],
      "source": [
        "def plot_behav_assays(pulse_data, model=None):\n",
        "    \"\"\"Plot the three main assays for a datset, optionally add model fit.\"\"\"\n",
        "\n",
        "    # Set up the matplotlib figure\n",
        "    gridspec = dict(width_ratios=(1, .7, 1.3))\n",
        "    f, axes = plt.subplots(1, 3, figsize=(9, 3), gridspec_kw=gridspec)\n",
        "\n",
        "    # First, (optionally) plot the model fits\n",
        "    # We have two options: most of the models have analytical predictions\n",
        "    # that can be directly plotted. But this is not true for Leaky Integration.\n",
        "    # In the latter case, we will plot simulated model performance.\n",
        "    if model is not None:\n",
        "\n",
        "        try:\n",
        "\n",
        "            # Plot analytical model fits\n",
        "            plot_model_mpmf(axes[0], model)\n",
        "            plot_model_cpmf(axes[1], model)\n",
        "            plot_model_rcf(axes[2], model)\n",
        "\n",
        "        except NotImplementedError:\n",
        "\n",
        "            # Generate a Monte Carlo dataset from the model\n",
        "            sim_kws = define_sim_kws(model)\n",
        "            _, pulse_sim = model.simulate_dataset(5, (trial_data, pulse_data))\n",
        "\n",
        "            # Plot Monte Carlo model fits \n",
        "            plot_data_mpmf(axes[0], pulse_sim, **sim_kws)\n",
        "            plot_data_cpmf(axes[1], pulse_sim, **sim_kws)\n",
        "            plot_data_rcf(axes[2], pulse_sim, **sim_kws)\n",
        "\n",
        "\n",
        "    # Plot the human behavioral data\n",
        "    data_kws = define_data_kws()\n",
        "    plot_data_mpmf(axes[0], pulse_data, **data_kws)\n",
        "    plot_data_cpmf(axes[1], pulse_data, **data_kws)\n",
        "    plot_data_rcf(axes[2], pulse_data, **data_kws)\n",
        "\n",
        "    # Finalize the figure\n",
        "    sns.despine()\n",
        "    f.tight_layout()"
      ]
    },
    {
      "cell_type": "markdown",
      "metadata": {
        "id": "_HXhCvOtsusB"
      },
      "source": [
        "### Functions for plotting behavioral data"
      ]
    },
    {
      "cell_type": "markdown",
      "metadata": {
        "id": "P6M86nr1susC"
      },
      "source": [
        "These functions define the three behavioral assays. Each operates on a pulse-wide dataframe. Note that they can be used to show either the actual human data or \"data\" simulated from the models, depending on the ``plot_kws`` dictionary."
      ]
    },
    {
      "cell_type": "code",
      "execution_count": 8,
      "metadata": {
        "id": "srYzU4Q7susD"
      },
      "outputs": [],
      "source": [
        "def plot_data_mpmf(ax, pulse_data, **plot_kws):\n",
        "    \"\"\"Plot response probabilities as function of evidence strength.\"\"\"\n",
        "    xbar = np.linspace(-1.25, 1.25, 11)\n",
        "    dx = xbar[1] - xbar[0]\n",
        "    bins = np.r_[-np.inf, xbar[:-1] + dx / 2, np.inf]\n",
        "\n",
        "    trial_mean = pulse_data.groupby(TRIAL_GROUPER).mean()\n",
        "    x_cut = pd.cut(trial_mean[\"pulse_llr\"], bins=bins)\n",
        "    x, y = xbar[x_cut.cat.codes], np.asarray(trial_mean[\"response\"])\n",
        "\n",
        "    sns.lineplot(x=x, y=y, ax=ax, **plot_kws)\n",
        "\n",
        "    ax.set(xlabel=\"LLR supporting 'high'\", ylabel=\"P(respond 'high')\")\n",
        "    \n",
        "def plot_data_cpmf(ax, pulse_data, **plot_kws):\n",
        "    \"\"\"Plot choice accuracy as function of sample count.\"\"\"\n",
        "    sns.lineplot(x=\"pulse_count\", y=\"correct\",\n",
        "                 data=pulse_data.loc[pulse_data[\"pulse\"] == 1],\n",
        "                 ax=ax, **plot_kws)\n",
        "\n",
        "    ax.set(xlabel=\"Sample count\", ylabel=\"P(correct)\",\n",
        "           xlim=(.5, 5.5), xticks=(1, 2, 3, 4, 5), ylim=(.6, .9))\n",
        "\n",
        "def plot_data_rcf(ax, pulse_data, **plot_kws):\n",
        "    \"\"\"Plot reverse correlation function (chioce-aligned only).\"\"\"\n",
        "    pulse_data[\"pulse_end\"] = (pulse_data[\"pulse\"] - pulse_data[\"pulse_count\"] - 1)\n",
        "    pulse_data[\"kernel_llr\"] = np.where(pulse_data[\"target\"] == 1,\n",
        "                                        pulse_data[\"pulse_llr\"],\n",
        "                                        -1 * pulse_data.pulse_llr)\n",
        "    \n",
        "    sns.lineplot(x=\"pulse_end\", y=\"kernel_llr\", style=\"correct\",\n",
        "                 markers=False, dashes=[\"\", (3, 1)], style_order=[True, False],\n",
        "                 data=pulse_data, ax=ax, **plot_kws)\n",
        "    ax.lines[-2].set(markerfacecolor=\"w\")\n",
        "\n",
        "    ax.set(xlabel=\"Sample\", ylabel=\"LLR supporting correct\")"
      ]
    },
    {
      "cell_type": "markdown",
      "metadata": {
        "id": "-nP-YFl7susG"
      },
      "source": [
        "### Functions for plotting model fits\n",
        "\n",
        "The model classes define methods that compute analytical predictions for each of the three assays; these functions call those methods and draw the resulting functions."
      ]
    },
    {
      "cell_type": "code",
      "execution_count": 9,
      "metadata": {
        "id": "T4B7C_IEsusG"
      },
      "outputs": [],
      "source": [
        "def plot_model_mpmf(ax, model):\n",
        "    \"\"\"Plot model response probabilities as func of evidence strength.\"\"\"\n",
        "    xbar = np.linspace(-1.25, 1.25, 11)\n",
        "    mpmf = model.predict_evidence_func(xbar)\n",
        "    ax.plot(xbar, mpmf, lw=2, color=model.color)\n",
        "    \n",
        "def plot_model_cpmf(ax, model):\n",
        "    \"\"\"Plot model choice accuracy as func of sample count.\"\"\"\n",
        "    cpmf = model.predict_sample_func()\n",
        "    ax.plot(model.design[\"count\"], cpmf, lw=2, color=model.color)\n",
        "\n",
        "def plot_model_rcf(ax, model):\n",
        "    \"\"\"Plot model reverse correlation function (chioce-aligned only).\"\"\"\n",
        "    w, c = model.predict_reverse_func(\"end\")\n",
        "    ax.plot(np.arange(-5, 0), c, color=model.color, lw=2)\n",
        "    ax.plot(np.arange(-5, 0), w, color=model.color, lw=2, dashes=(3, 1))"
      ]
    },
    {
      "cell_type": "markdown",
      "metadata": {
        "id": "TgdyEJHPsusH"
      },
      "source": [
        "### Functions for defining plot aesthetics\n",
        "\n",
        "These functions define the parameters that differentiate human data from model simulations when using `seaborn.lineplot`."
      ]
    },
    {
      "cell_type": "code",
      "execution_count": 16,
      "metadata": {
        "id": "VzEfFxvTsusI"
      },
      "outputs": [],
      "source": [
        "def define_data_kws(**custom_kws):\n",
        "    \"\"\"Aesthetics of line plots representing subject data.\"\"\"\n",
        "    data_color = \".2\"\n",
        "    kwargs = dict(\n",
        "        color=data_color,\n",
        "        err_style=\"bars\",\n",
        "        marker=\"o\",\n",
        "        linewidth=0,\n",
        "        markersize=6,\n",
        "        markeredgewidth=1.5,\n",
        "        markeredgecolor=data_color,\n",
        "        err_kws=dict(elinewidth=2.5),\n",
        "        legend=False,\n",
        "    )\n",
        "    kwargs.update(custom_kws)\n",
        "    return kwargs\n",
        "\n",
        "def define_sim_kws(model, **custom_kws):\n",
        "    \"\"\"Aesthetics of line plots representing model simulations.\"\"\"\n",
        "    kwargs = dict(\n",
        "        color=model.color,\n",
        "        marker=\"\",\n",
        "        linewidth=2,\n",
        "        markersize=0,\n",
        "        ci=None,\n",
        "        legend=False,\n",
        "    )\n",
        "    kwargs.update(custom_kws)\n",
        "    return kwargs"
      ]
    },
    {
      "cell_type": "markdown",
      "metadata": {
        "id": "Pbh5X2jWsusJ"
      },
      "source": [
        "---"
      ]
    },
    {
      "cell_type": "markdown",
      "metadata": {
        "id": "zcirP2aisusK"
      },
      "source": [
        "## Load aggregate behavioral data\n",
        "\n",
        "Now we've reached the part of the notebook where we engage with the data from the experiment. First we have to load it. There are separate data tables with information about each trial and about each pulse of the stimulus (called a \"sample\" in the paper). After loading those two tables, we will merge them so that each pulse-wise record is associated with information about the trial in which is appeared."
      ]
    },
    {
      "cell_type": "code",
      "execution_count": 12,
      "metadata": {
        "id": "xGhzA0VVsusL"
      },
      "outputs": [],
      "source": [
        "TRIAL_GROUPER = [\"subject\", \"timing\", \"session\", \"run\", \"trial\"]\n",
        "def load_dataset(data_dir=\"/content/Waskom_CurrBiol_2018/data\", trial_grouper=TRIAL_GROUPER):\n",
        "    \"\"\"Load tidy trial-wise and pulse-wise data, and merge.\"\"\"\n",
        "    trial_data = pd.read_csv(f\"{data_dir}/trial_data.csv\")\n",
        "    pulse_data = pd.read_csv(f\"{data_dir}/pulse_data.csv\")\n",
        "    pulse_data = pulse_data.merge(trial_data, on=TRIAL_GROUPER)\n",
        "    return trial_data, pulse_data"
      ]
    },
    {
      "cell_type": "code",
      "execution_count": 13,
      "metadata": {
        "id": "dNApX1TjsusM"
      },
      "outputs": [],
      "source": [
        "trial_data, pulse_data = load_dataset()"
      ]
    },
    {
      "cell_type": "markdown",
      "metadata": {
        "id": "2XBjyGlvsusM"
      },
      "source": [
        "----"
      ]
    },
    {
      "cell_type": "markdown",
      "metadata": {
        "id": "aN0BUa9isusM"
      },
      "source": [
        "## Compare model fits to main behavioral assays"
      ]
    },
    {
      "cell_type": "markdown",
      "metadata": {
        "id": "SbC6c7ZQsusN"
      },
      "source": [
        "Then, we will fit the free parameters of each model and show how well each can reproduce the behavioral performance when viewed from the perspective of the three assays."
      ]
    },
    {
      "cell_type": "markdown",
      "metadata": {
        "id": "JcSIR1aVsusN"
      },
      "source": [
        "### Linear Integration model"
      ]
    },
    {
      "cell_type": "code",
      "execution_count": 14,
      "metadata": {
        "id": "C5BBghMgsusN",
        "outputId": "40df9d60-ed66-47eb-9fac-96f34255b97a",
        "colab": {
          "base_uri": "https://localhost:8080/"
        }
      },
      "outputs": [
        {
          "output_type": "stream",
          "name": "stdout",
          "text": [
            "Free Parameters:\n",
            "  sigma: 0.47\n",
            "\n"
          ]
        }
      ],
      "source": [
        "m_linear = LinearIntegration()\n",
        "m_linear.fit_parameters(trial_data, pulse_data, [.3])\n",
        "print(m_linear.params)"
      ]
    },
    {
      "cell_type": "code",
      "execution_count": 17,
      "metadata": {
        "id": "5g3nJLT3susP",
        "outputId": "5704df16-6c20-44e5-c07e-ad557fe231cd",
        "colab": {
          "base_uri": "https://localhost:8080/",
          "height": 221
        }
      },
      "outputs": [
        {
          "output_type": "display_data",
          "data": {
            "text/plain": [
              "<Figure size 648x216 with 3 Axes>"
            ],
            "image/png": "[encoded data removed]"
          },
          "metadata": {
            "needs_background": "light"
          }
        }
      ],
      "source": [
        "plot_behav_assays(pulse_data, m_linear)"
      ]
    },
    {
      "cell_type": "markdown",
      "metadata": {
        "id": "x-FNljk1susP"
      },
      "source": [
        "### Extrema Detection model"
      ]
    },
    {
      "cell_type": "code",
      "execution_count": 18,
      "metadata": {
        "id": "G-1SXXolsusP",
        "outputId": "e26e7aa7-ad45-4efa-e71f-cacb36af054a",
        "colab": {
          "base_uri": "https://localhost:8080/"
        }
      },
      "outputs": [
        {
          "output_type": "stream",
          "name": "stdout",
          "text": [
            "Free Parameters:\n",
            "  sigma: 0.43\n",
            "  theta: 0.508\n",
            "\n"
          ]
        }
      ],
      "source": [
        "m_extrema = ExtremaDetection()\n",
        "m_extrema.fit_parameters(trial_data, pulse_data, [.3, .6])\n",
        "print(m_extrema.params)"
      ]
    },
    {
      "cell_type": "code",
      "execution_count": 19,
      "metadata": {
        "id": "atEeVz5ssusQ",
        "outputId": "baca4b3f-3d03-42fa-8bde-c3c5f68afec4",
        "colab": {
          "base_uri": "https://localhost:8080/",
          "height": 276
        }
      },
      "outputs": [
        {
          "output_type": "stream",
          "name": "stderr",
          "text": [
            "/content/Waskom_CurrBiol_2018/models/base.py:182: FutureWarning: arrays to stack must be passed as a \"sequence\" type such as list or tuple. Support for non-sequence iterables such as generators is deprecated as of NumPy 1.16 and will raise an error in the future.\n",
            "  mesh = np.column_stack(a.flat for a in np.meshgrid(*[xx] * n))\n"
          ]
        },
        {
          "output_type": "display_data",
          "data": {
            "text/plain": [
              "<Figure size 648x216 with 3 Axes>"
            ],
            "image/png": "[encoded data removed]"
          },
          "metadata": {
            "needs_background": "light"
          }
        }
      ],
      "source": [
        "plot_behav_assays(pulse_data, m_extrema)"
      ]
    },
    {
      "cell_type": "markdown",
      "metadata": {
        "id": "fprpidwjsusQ"
      },
      "source": [
        "### Counting model"
      ]
    },
    {
      "cell_type": "code",
      "execution_count": 20,
      "metadata": {
        "id": "VySqQAe-susR",
        "outputId": "5130adc4-919a-4c96-a608-276c8f97f018",
        "colab": {
          "base_uri": "https://localhost:8080/"
        }
      },
      "outputs": [
        {
          "output_type": "stream",
          "name": "stdout",
          "text": [
            "Free Parameters:\n",
            "  sigma: 0.367\n",
            "\n"
          ]
        }
      ],
      "source": [
        "m_count = Counting()\n",
        "m_count.fit_parameters(trial_data, pulse_data, [.3])\n",
        "print(m_count.params)"
      ]
    },
    {
      "cell_type": "code",
      "execution_count": 21,
      "metadata": {
        "id": "fLxJ71scsusR",
        "outputId": "38d84834-8873-4365-ccee-ce68de23dd07",
        "colab": {
          "base_uri": "https://localhost:8080/",
          "height": 276
        }
      },
      "outputs": [
        {
          "output_type": "stream",
          "name": "stderr",
          "text": [
            "/content/Waskom_CurrBiol_2018/models/base.py:182: FutureWarning: arrays to stack must be passed as a \"sequence\" type such as list or tuple. Support for non-sequence iterables such as generators is deprecated as of NumPy 1.16 and will raise an error in the future.\n",
            "  mesh = np.column_stack(a.flat for a in np.meshgrid(*[xx] * n))\n"
          ]
        },
        {
          "output_type": "display_data",
          "data": {
            "text/plain": [
              "<Figure size 648x216 with 3 Axes>"
            ],
            "image/png": "[encoded data removed]"
          },
          "metadata": {
            "needs_background": "light"
          }
        }
      ],
      "source": [
        "plot_behav_assays(pulse_data, m_count)"
      ]
    },
    {
      "cell_type": "markdown",
      "metadata": {
        "id": "-EVFeKKmsusR"
      },
      "source": [
        "### Leaky integration model"
      ]
    },
    {
      "cell_type": "code",
      "execution_count": 22,
      "metadata": {
        "id": "sDrzjENVsusS",
        "outputId": "d8cfdc55-b45f-48e5-9ff1-40d9edd6d4d1",
        "colab": {
          "base_uri": "https://localhost:8080/"
        }
      },
      "outputs": [
        {
          "output_type": "stream",
          "name": "stdout",
          "text": [
            "Free Parameters:\n",
            "  sigma_eta: 0.47\n",
            "  sigma_eps: 1.11e-09\n",
            "  alpha: 2.2e-15\n",
            "\n"
          ]
        }
      ],
      "source": [
        "m_leaky = LeakyIntegration()\n",
        "m_leaky.fit_parameters(trial_data, pulse_data, [.3, .1, .1])\n",
        "print(m_leaky.params)"
      ]
    },
    {
      "cell_type": "code",
      "execution_count": 23,
      "metadata": {
        "id": "Sfr2DBuGsusS",
        "outputId": "a03f568e-7fde-4bdc-9289-6033c0ff9654",
        "colab": {
          "base_uri": "https://localhost:8080/",
          "height": 221
        }
      },
      "outputs": [
        {
          "output_type": "display_data",
          "data": {
            "text/plain": [
              "<Figure size 648x216 with 3 Axes>"
            ],
            "image/png": "[encoded data removed]"
          },
          "metadata": {
            "needs_background": "light"
          }
        }
      ],
      "source": [
        "plot_behav_assays(pulse_data, m_leaky)"
      ]
    },
    {
      "cell_type": "code",
      "execution_count": null,
      "metadata": {
        "id": "TdIif0losusS"
      },
      "outputs": [],
      "source": []
    }
  ],
  "metadata": {
    "kernelspec": {
      "display_name": "waskom_2018_currbiol (py36)",
      "language": "python",
      "name": "waskom_2018_currbiol"
    },
    "language_info": {
      "codemirror_mode": {
        "name": "ipython",
        "version": 3
      },
      "file_extension": ".py",
      "mimetype": "text/x-python",
      "name": "python",
      "nbconvert_exporter": "python",
      "pygments_lexer": "ipython3",
      "version": "3.6.10"
    },
    "colab": {
      "provenance": [],
      "include_colab_link": true
    },
    "accelerator": "GPU",
    "gpuClass": "standard"
  },
  "nbformat": 4,
  "nbformat_minor": 0
}